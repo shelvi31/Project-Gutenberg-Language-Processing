{
 "cells": [
  {
   "cell_type": "markdown",
   "metadata": {},
   "source": [
    "### ABOUT PROJECT GUTENBERG"
   ]
  },
  {
   "cell_type": "markdown",
   "metadata": {},
   "source": [
    "Project Gutenberg is a volunteer effort to digitize and archive cultural works, to \"encourage the creation and distribution of eBooks\". It was founded in 1971 by American writer Michael S. Hart and is the oldest digital library. Most of the items in its collection are the full texts of public domain books. \n",
    "\n",
    "Its a repository of Over 60,000 book.\n",
    "\n",
    "Link to the project : https://www.gutenberg.org/"
   ]
  },
  {
   "cell_type": "markdown",
   "metadata": {},
   "source": [
    "#### OUR TASK"
   ]
  },
  {
   "cell_type": "markdown",
   "metadata": {},
   "source": [
    "Patterns within written text are not the same across all authors or languages.\n",
    "This allows linguists to study the language of origin or potential authorship of texts where these characteristics are not directly known such as the Federalist Papers of the American Revolution\n",
    "\n",
    "In this blog, we will examine the properties of individual books in a book collection from various authors and various languages. More specifically, we will look at book lengths, number of unique words, and how these attributes cluster by language of or authorship."
   ]
  },
  {
   "cell_type": "markdown",
   "metadata": {},
   "source": [
    "### Defining count_words "
   ]
  },
  {
   "cell_type": "code",
   "execution_count": 11,
   "metadata": {},
   "outputs": [],
   "source": [
    "text = \"Hi, welcome to the project Gutenberg.\""
   ]
  },
  {
   "cell_type": "markdown",
   "metadata": {},
   "source": [
    "Lets define a function to count words in a sentence."
   ]
  },
  {
   "cell_type": "code",
   "execution_count": 13,
   "metadata": {},
   "outputs": [
    {
     "name": "stdout",
     "output_type": "stream",
     "text": [
      "{'Hi,': 1, 'welcome': 1, 'to': 1, 'the': 1, 'project': 1, 'Gutenberg.': 1}\n"
     ]
    }
   ],
   "source": [
    "def count_words(text):\n",
    "    \"\"\"Count the number of times each word occurs in text. Show number count in dictionary.Skip punctuation.Lower case\"\"\" \n",
    "    #adding docstring to function\n",
    "\n",
    "    word_counts = {}\n",
    "    \n",
    "    for word in text.split(\" \"):          #splitted the words with blanks and do a loop over loop\n",
    "        if word in word_counts:\n",
    "            word_counts[word] += 1\n",
    "        else:\n",
    "            word_counts[word] = 1\n",
    "    return word_counts\n",
    "\n",
    "print(count_words(text))"
   ]
  },
  {
   "cell_type": "markdown",
   "metadata": {},
   "source": [
    "#### Addressing the issues"
   ]
  },
  {
   "cell_type": "markdown",
   "metadata": {},
   "source": [
    "Looking at the dictionary, one obvious shortcoming of our current routine is that it includes punctuation like periods, \n",
    "or full stops, it does not consider caps as part of the word.This would lead to an inflation of the word count."
   ]
  },
  {
   "cell_type": "markdown",
   "metadata": {},
   "source": [
    "To address these issues, we're first going to turn the text into lower case. \n",
    "\n",
    "Addressing punctuation is a bit more complex. Our strategy is to first specify all the punctuation marks that we'd like to skip, and then loop over that container and replace every occurrence of a punctuation mark with an empty string."
   ]
  },
  {
   "cell_type": "code",
   "execution_count": 17,
   "metadata": {},
   "outputs": [
    {
     "name": "stdout",
     "output_type": "stream",
     "text": [
      "{'hi': 1, 'this': 2, 'is': 2, 'project': 1, 'gutenberg': 2, 'nice': 1, 'to': 1, 'meet': 1, 'you': 1, 'a': 1, 'tutorial': 1, 'blog': 1, 'of': 1, '': 1}\n"
     ]
    }
   ],
   "source": [
    "text = \"Hi, this is Project Gutenberg. Nice to meet you. This is a tutorial blog of Gutenberg. \"\n",
    "\n",
    "def count_words(text):\n",
    "    \"\"\"Count the number of times each word occurs in text. Show number count in dictionary.Skip punctuation.Lower case\"\"\"  #adding docstring to function\n",
    "    text = text.lower()\n",
    "    skips = [\".\",\",\", \":\", \";\",\"'\",'\"']      #fixing the problem\n",
    "    for ch in skips:\n",
    "        text = text.replace(ch,\"\")\n",
    "\n",
    "    word_counts = {}\n",
    "    for word in text.split(\" \"):          #splitted the words with blanks and do a loop over loop\n",
    "        if word in word_counts:\n",
    "            word_counts[word] += 1\n",
    "        else:\n",
    "            word_counts[word] = 1\n",
    "    return word_counts\n",
    "\n",
    "print(count_words(text))"
   ]
  },
  {
   "cell_type": "markdown",
   "metadata": {},
   "source": [
    "It's useful to be able to write your own counting routine like we just did. \n",
    "\n",
    "However, counting the frequency of objects is such a common operation that Python provides what is known as a counter tool to support rabbit tallies. We first need to import it from the collections module, which provides many additional high performance data types."
   ]
  },
  {
   "cell_type": "markdown",
   "metadata": {},
   "source": [
    "#### Updated Fast code : Using counter function"
   ]
  },
  {
   "cell_type": "code",
   "execution_count": 18,
   "metadata": {},
   "outputs": [
    {
     "name": "stdout",
     "output_type": "stream",
     "text": [
      "Counter({'this': 2, 'is': 2, 'gutenberg': 2, 'hi': 1, 'project': 1, 'nice': 1, 'to': 1, 'meet': 1, 'you': 1, 'a': 1, 'tutorial': 1, 'blog': 1, 'of': 1, '': 1})\n",
      "True\n"
     ]
    }
   ],
   "source": [
    "from collections import Counter\n",
    "\n",
    "def count_words_fast(text):\n",
    "    \"\"\"Count the number of times each word occurs in text. Show number count in dictionary.Skip punctuation.Lower case\"\"\"  #adding docstring to function\n",
    "    text = text.lower()\n",
    "    skips = [\".\",\",\", \":\", \";\",\"'\",'\"']\n",
    "    for ch in skips:\n",
    "        text = text.replace(ch,\"\")\n",
    "\n",
    "    word_counts = Counter(text.split(\" \"))\n",
    "    return word_counts\n",
    "\n",
    "print(count_words_fast(text))\n",
    "print(count_words_fast(text) == count_words(text))     #True but now faster"
   ]
  },
  {
   "cell_type": "markdown",
   "metadata": {},
   "source": [
    "count_words_fast(text) is equal to count_words(text) but is now much faster"
   ]
  },
  {
   "cell_type": "markdown",
   "metadata": {},
   "source": [
    "#### READING A COMPLETE BOOK "
   ]
  },
  {
   "cell_type": "markdown",
   "metadata": {},
   "source": [
    "Character encoding refers to the process how computer encodes certain characters. In this case, we'll use what is called UTF-8 encoding, which is the dominant character encoding for the web."
   ]
  },
  {
   "cell_type": "markdown",
   "metadata": {},
   "source": [
    "You can download any book from project  Gutenberg website. In this blog I have particularly referred to Shakespeare Books.\n",
    "\n",
    "You can also download the book I refer from here : https://github.com/shelvi31/Project-Gutenberg-Language-Processing"
   ]
  },
  {
   "cell_type": "code",
   "execution_count": 24,
   "metadata": {},
   "outputs": [
    {
     "name": "stdout",
     "output_type": "stream",
     "text": [
      "169275\n"
     ]
    }
   ],
   "source": [
    "def read_book(title_path): \n",
    "    \"\"\"Read a book and return it as a string\"\"\" \n",
    "    with open(title_path,\"r\",encoding = \"utf8\") as current_file:            \n",
    "        text = current_file.read() \n",
    "        text = text.replace(\"\\n\",\"\").replace(\"\\r\",\"\") \n",
    "    return text \n",
    "\n",
    "#inputting location of downloaded utf8 file from gutenberg site \n",
    "\n",
    "text1 = read_book(r\"C:\\Users\\Shelvi Garg\\Desktop\\Code\\data-science\\BooksPython\\English\\shakespeare\\Romeo and Juliet.txt\") \n",
    "print(len(text1)) "
   ]
  },
  {
   "cell_type": "markdown",
   "metadata": {},
   "source": [
    "Using find method : i am looking out for a few words i know exist in my book"
   ]
  },
  {
   "cell_type": "code",
   "execution_count": 25,
   "metadata": {},
   "outputs": [
    {
     "name": "stdout",
     "output_type": "stream",
     "text": [
      "42764\n",
      "in a name? That which we call a rose    By any other name would smell as sweet.    So Romeo would, were he not Romeo call'd,    Retain that dear perfection which he owes    Without that title. Romeo, doff thy name;    And for that name, which is no part of thee,    Take all myself.  Rom. I take thee at thy word.    Call me but love, and I'll be new baptiz'd;    Henceforth I never will be Romeo.  Jul. What man art thou that, thus bescreen'd in night,    So stumblest on my counsel?  Rom. By a name    I know not how to tell thee who I am.    My name, dear saint, is hateful to myself,    Because it is an enemy to thee.    Had I it written, I would tear the word.  Jul. My ears have yet not drunk a hundred words    Of that tongue's utterance, yet I know the sound.    Art thou not Romeo, and a Montague?  Rom. Neither, fair saint, if either thee dislike.  Jul. How cam'st thou hither, tell me, and wherefore?    The orchard walls are high and hard to climb,    And the place death, considering wh\n"
     ]
    }
   ],
   "source": [
    "ind = text1.find(\"in a name\")        \n",
    "print(ind) \n",
    "sample_text1 = text1[ind : ind +1000] \n",
    "print(sample_text1)"
   ]
  },
  {
   "cell_type": "markdown",
   "metadata": {},
   "source": [
    "### Computing Word Frequency Statistics"
   ]
  },
  {
   "cell_type": "markdown",
   "metadata": {},
   "source": [
    "We would like to know how many unique words there are in a given book. We'd also like to return the frequencies of each word. "
   ]
  },
  {
   "cell_type": "code",
   "execution_count": 26,
   "metadata": {},
   "outputs": [
    {
     "name": "stdout",
     "output_type": "stream",
     "text": [
      "5118\n",
      "40776\n"
     ]
    }
   ],
   "source": [
    "def word_stats(word_counts):\n",
    "    \"\"\" return number of unique words and word frequencies\"\"\"\n",
    "    num_unique = len(word_counts)\n",
    "    counts = word_counts.values()\n",
    "    return (num_unique,counts)\n",
    "text1 = read_book(r\"C:\\Users\\Shelvi Garg\\Desktop\\Code\\data-science\\BooksPython\\English\\shakespeare\\Romeo and Juliet.txt\")\n",
    "word_counts = count_words(text1)\n",
    "(num_unique,counts) = word_stats(word_counts)"
   ]
  },
  {
   "cell_type": "markdown",
   "metadata": {},
   "source": [
    "#### Total No of unique words "
   ]
  },
  {
   "cell_type": "code",
   "execution_count": 27,
   "metadata": {},
   "outputs": [
    {
     "name": "stdout",
     "output_type": "stream",
     "text": [
      "5118\n"
     ]
    }
   ],
   "source": [
    "print(num_unique)"
   ]
  },
  {
   "cell_type": "markdown",
   "metadata": {},
   "source": [
    "#### Total number of words"
   ]
  },
  {
   "cell_type": "code",
   "execution_count": 28,
   "metadata": {},
   "outputs": [
    {
     "name": "stdout",
     "output_type": "stream",
     "text": [
      "40776\n"
     ]
    }
   ],
   "source": [
    "print(sum(counts))    "
   ]
  },
  {
   "cell_type": "markdown",
   "metadata": {},
   "source": [
    "### Reading multiple book files simultaneously"
   ]
  },
  {
   "cell_type": "code",
   "execution_count": 30,
   "metadata": {},
   "outputs": [
    {
     "name": "stdout",
     "output_type": "stream",
     "text": [
      "['English', 'French', 'German', 'Portuguese']\n"
     ]
    }
   ],
   "source": [
    "import os\n",
    "book_dir = (r\"C:\\Users\\Shelvi Garg\\Desktop\\Code\\data-science\\BooksPython\")\n",
    "print(os.listdir(book_dir))"
   ]
  },
  {
   "cell_type": "markdown",
   "metadata": {},
   "source": [
    "I have 4 folders each having different books in a language namely 'English', 'French', 'German', 'Portuguese'"
   ]
  },
  {
   "cell_type": "markdown",
   "metadata": {},
   "source": [
    "We first want to generate a list of the directories that are contained within our \"BooksPython directory.\n",
    "Since these directories will correspond to different languages, I am going to call the loop variable language"
   ]
  },
  {
   "cell_type": "code",
   "execution_count": 31,
   "metadata": {},
   "outputs": [
    {
     "name": "stdout",
     "output_type": "stream",
     "text": [
      "C:\\Users\\Shelvi Garg\\Desktop\\Code\\data-science\\BooksPython/English/shakespeare/A Midsummer Night's Dream.txt\n",
      "C:\\Users\\Shelvi Garg\\Desktop\\Code\\data-science\\BooksPython/English/shakespeare/Hamlet.txt\n",
      "C:\\Users\\Shelvi Garg\\Desktop\\Code\\data-science\\BooksPython/English/shakespeare/Macbeth.txt\n",
      "C:\\Users\\Shelvi Garg\\Desktop\\Code\\data-science\\BooksPython/English/shakespeare/Othello.txt\n",
      "C:\\Users\\Shelvi Garg\\Desktop\\Code\\data-science\\BooksPython/English/shakespeare/Richard III.txt\n",
      "C:\\Users\\Shelvi Garg\\Desktop\\Code\\data-science\\BooksPython/English/shakespeare/Romeo and Juliet.txt\n",
      "C:\\Users\\Shelvi Garg\\Desktop\\Code\\data-science\\BooksPython/English/shakespeare/The Merchant of Venice.txt\n",
      "C:\\Users\\Shelvi Garg\\Desktop\\Code\\data-science\\BooksPython/French/chevalier/L'a╠èle de sable.txt\n",
      "C:\\Users\\Shelvi Garg\\Desktop\\Code\\data-science\\BooksPython/French/chevalier/L'enfer et le paradis de l'autre monde.txt\n",
      "C:\\Users\\Shelvi Garg\\Desktop\\Code\\data-science\\BooksPython/French/chevalier/La capitaine.txt\n",
      "C:\\Users\\Shelvi Garg\\Desktop\\Code\\data-science\\BooksPython/French/chevalier/La fille des indiens rouges.txt\n",
      "C:\\Users\\Shelvi Garg\\Desktop\\Code\\data-science\\BooksPython/French/chevalier/La fille du pirate.txt\n",
      "C:\\Users\\Shelvi Garg\\Desktop\\Code\\data-science\\BooksPython/French/chevalier/Le chasseur noir.txt\n",
      "C:\\Users\\Shelvi Garg\\Desktop\\Code\\data-science\\BooksPython/French/chevalier/Les derniers Iroquois.txt\n",
      "C:\\Users\\Shelvi Garg\\Desktop\\Code\\data-science\\BooksPython/French/de Maupassant/Boule de Suif.txt\n",
      "C:\\Users\\Shelvi Garg\\Desktop\\Code\\data-science\\BooksPython/French/de Maupassant/Claire de Lune.txt\n",
      "C:\\Users\\Shelvi Garg\\Desktop\\Code\\data-science\\BooksPython/French/de Maupassant/Contes de la Becasse.txt\n",
      "C:\\Users\\Shelvi Garg\\Desktop\\Code\\data-science\\BooksPython/French/de Maupassant/L'inutile beautC╠º.txt\n",
      "C:\\Users\\Shelvi Garg\\Desktop\\Code\\data-science\\BooksPython/French/de Maupassant/La Main Gauche.txt\n",
      "C:\\Users\\Shelvi Garg\\Desktop\\Code\\data-science\\BooksPython/French/de Maupassant/La Maison Tellier.txt\n",
      "C:\\Users\\Shelvi Garg\\Desktop\\Code\\data-science\\BooksPython/French/de Maupassant/La petite roque.txt\n",
      "C:\\Users\\Shelvi Garg\\Desktop\\Code\\data-science\\BooksPython/French/de Maupassant/Le Horla.txt\n",
      "C:\\Users\\Shelvi Garg\\Desktop\\Code\\data-science\\BooksPython/French/de Maupassant/┼Æuvres comple╠Çtes de Guy de Maupassant.txt\n",
      "C:\\Users\\Shelvi Garg\\Desktop\\Code\\data-science\\BooksPython/French/diderot/Ceci n'est pas un conte.txt\n",
      "C:\\Users\\Shelvi Garg\\Desktop\\Code\\data-science\\BooksPython/French/diderot/Entretien d'un pa╠êre avec ses enfants.txt\n",
      "C:\\Users\\Shelvi Garg\\Desktop\\Code\\data-science\\BooksPython/French/diderot/L'oiseau blanc.txt\n",
      "C:\\Users\\Shelvi Garg\\Desktop\\Code\\data-science\\BooksPython/French/diderot/Les deux amis de Bourbonne.txt\n",
      "C:\\Users\\Shelvi Garg\\Desktop\\Code\\data-science\\BooksPython/French/diderot/Regrets sur ma vieille robe de chambre.txt\n",
      "C:\\Users\\Shelvi Garg\\Desktop\\Code\\data-science\\BooksPython/French/sand/cora.txt\n",
      "C:\\Users\\Shelvi Garg\\Desktop\\Code\\data-science\\BooksPython/French/sand/Jacques le fataliste et son maa╠ètre.txt\n",
      "C:\\Users\\Shelvi Garg\\Desktop\\Code\\data-science\\BooksPython/French/sand/L' Orco.txt\n",
      "C:\\Users\\Shelvi Garg\\Desktop\\Code\\data-science\\BooksPython/French/sand/La Coupe; Lupo Liverani; Le Toast; Garnier; Le Contrebandier; La Ra╠Çverie O╠ê Paris.txt\n",
      "C:\\Users\\Shelvi Garg\\Desktop\\Code\\data-science\\BooksPython/French/sand/La Marquise.txt\n",
      "C:\\Users\\Shelvi Garg\\Desktop\\Code\\data-science\\BooksPython/French/sand/Le Piccinino.txt\n",
      "C:\\Users\\Shelvi Garg\\Desktop\\Code\\data-science\\BooksPython/French/sand/Le poa╠éme de Myrza.txt\n",
      "C:\\Users\\Shelvi Garg\\Desktop\\Code\\data-science\\BooksPython/French/sand/Mattea.txt\n",
      "C:\\Users\\Shelvi Garg\\Desktop\\Code\\data-science\\BooksPython/French/sand/Metella.txt\n",
      "C:\\Users\\Shelvi Garg\\Desktop\\Code\\data-science\\BooksPython/French/sand/Oeuvres illustrC╠ºes de George Sand.txt\n",
      "C:\\Users\\Shelvi Garg\\Desktop\\Code\\data-science\\BooksPython/French/sand/Pauline.txt\n",
      "C:\\Users\\Shelvi Garg\\Desktop\\Code\\data-science\\BooksPython/German/lessing/der freigeist.txt\n",
      "C:\\Users\\Shelvi Garg\\Desktop\\Code\\data-science\\BooksPython/German/lessing/der junge gelehrte.txt\n",
      "C:\\Users\\Shelvi Garg\\Desktop\\Code\\data-science\\BooksPython/German/lessing/die juden.txt\n",
      "C:\\Users\\Shelvi Garg\\Desktop\\Code\\data-science\\BooksPython/German/lessing/emilia galotti.txt\n",
      "C:\\Users\\Shelvi Garg\\Desktop\\Code\\data-science\\BooksPython/German/lessing/hamburgische dramaturgie.txt\n",
      "C:\\Users\\Shelvi Garg\\Desktop\\Code\\data-science\\BooksPython/German/lessing/minna von barnhelm.txt\n",
      "C:\\Users\\Shelvi Garg\\Desktop\\Code\\data-science\\BooksPython/German/lessing/miss sara sampson.txt\n",
      "C:\\Users\\Shelvi Garg\\Desktop\\Code\\data-science\\BooksPython/German/lessing/philotas.txt\n",
      "C:\\Users\\Shelvi Garg\\Desktop\\Code\\data-science\\BooksPython/German/raimund/Das MN╠âdchen aus der Feenwelt.txt\n",
      "C:\\Users\\Shelvi Garg\\Desktop\\Code\\data-science\\BooksPython/German/raimund/Der Alpenki╠énig und der Menschenfeind.txt\n",
      "C:\\Users\\Shelvi Garg\\Desktop\\Code\\data-science\\BooksPython/German/raimund/Der Barometermacher auf der Zauberinsel.txt\n",
      "C:\\Users\\Shelvi Garg\\Desktop\\Code\\data-science\\BooksPython/German/raimund/Der Diamant des Geisterki╠énigs.txt\n",
      "C:\\Users\\Shelvi Garg\\Desktop\\Code\\data-science\\BooksPython/German/raimund/Der Verschwender.txt\n",
      "C:\\Users\\Shelvi Garg\\Desktop\\Code\\data-science\\BooksPython/German/raimund/Die gefesselte Phantasie.txt\n",
      "C:\\Users\\Shelvi Garg\\Desktop\\Code\\data-science\\BooksPython/German/raimund/Die unheilbringende Krone.txt\n",
      "C:\\Users\\Shelvi Garg\\Desktop\\Code\\data-science\\BooksPython/German/raimund/Moisasurs Zauberfluch.txt\n",
      "C:\\Users\\Shelvi Garg\\Desktop\\Code\\data-science\\BooksPython/German/schiller/Der Neffe als Onkel.txt\n",
      "C:\\Users\\Shelvi Garg\\Desktop\\Code\\data-science\\BooksPython/German/schiller/Der Parasit, oder die Kunst, sein GlA╠èck zu machen.txt\n",
      "C:\\Users\\Shelvi Garg\\Desktop\\Code\\data-science\\BooksPython/German/schiller/die braut von messina.txt\n",
      "C:\\Users\\Shelvi Garg\\Desktop\\Code\\data-science\\BooksPython/German/schiller/Die Huldigung der KA╠ènste.txt\n",
      "C:\\Users\\Shelvi Garg\\Desktop\\Code\\data-science\\BooksPython/German/schiller/Die Jungfrau von Orleans.txt\n",
      "C:\\Users\\Shelvi Garg\\Desktop\\Code\\data-science\\BooksPython/German/schiller/Die Piccolomini.txt\n",
      "C:\\Users\\Shelvi Garg\\Desktop\\Code\\data-science\\BooksPython/German/schiller/Die Verschwi╠érung des Fiesco zu Genua.txt\n",
      "C:\\Users\\Shelvi Garg\\Desktop\\Code\\data-science\\BooksPython/German/schiller/Kabale und Liebe.txt\n",
      "C:\\Users\\Shelvi Garg\\Desktop\\Code\\data-science\\BooksPython/German/schiller/Turandot, Prinzessin von China.txt\n",
      "C:\\Users\\Shelvi Garg\\Desktop\\Code\\data-science\\BooksPython/German/schiller/Wallensteins Lager.txt\n",
      "C:\\Users\\Shelvi Garg\\Desktop\\Code\\data-science\\BooksPython/German/schiller/Wallensteins Tod.txt\n",
      "C:\\Users\\Shelvi Garg\\Desktop\\Code\\data-science\\BooksPython/German/shakespeare/Der Kaufmann von Venedig.txt\n",
      "C:\\Users\\Shelvi Garg\\Desktop\\Code\\data-science\\BooksPython/German/shakespeare/Ein Sommernachtstraum.txt\n",
      "C:\\Users\\Shelvi Garg\\Desktop\\Code\\data-science\\BooksPython/German/shakespeare/Hamlet.txt\n",
      "C:\\Users\\Shelvi Garg\\Desktop\\Code\\data-science\\BooksPython/German/shakespeare/Macbeth.txt\n",
      "C:\\Users\\Shelvi Garg\\Desktop\\Code\\data-science\\BooksPython/German/shakespeare/Othello.txt\n",
      "C:\\Users\\Shelvi Garg\\Desktop\\Code\\data-science\\BooksPython/German/shakespeare/Richard III.txt\n",
      "C:\\Users\\Shelvi Garg\\Desktop\\Code\\data-science\\BooksPython/German/shakespeare/Romeo und Julia.txt\n",
      "C:\\Users\\Shelvi Garg\\Desktop\\Code\\data-science\\BooksPython/Portuguese/branco/A Filha do Arcediago.txt\n",
      "C:\\Users\\Shelvi Garg\\Desktop\\Code\\data-science\\BooksPython/Portuguese/branco/A Neta do Arcediago.txt\n",
      "C:\\Users\\Shelvi Garg\\Desktop\\Code\\data-science\\BooksPython/Portuguese/branco/A Queda d'um Anjo.txt\n",
      "C:\\Users\\Shelvi Garg\\Desktop\\Code\\data-science\\BooksPython/Portuguese/branco/Agulha em Palheiro.txt\n",
      "C:\\Users\\Shelvi Garg\\Desktop\\Code\\data-science\\BooksPython/Portuguese/branco/Amor de Perdic╠ºa╠âo.txt\n",
      "C:\\Users\\Shelvi Garg\\Desktop\\Code\\data-science\\BooksPython/Portuguese/branco/Amor de Salvac╠ºa╠âo.txt\n",
      "C:\\Users\\Shelvi Garg\\Desktop\\Code\\data-science\\BooksPython/Portuguese/branco/Annos de Prosa.txt\n",
      "C:\\Users\\Shelvi Garg\\Desktop\\Code\\data-science\\BooksPython/Portuguese/branco/Carlota Angela.txt\n",
      "C:\\Users\\Shelvi Garg\\Desktop\\Code\\data-science\\BooksPython/Portuguese/branco/Estrellas Funestas.txt\n",
      "C:\\Users\\Shelvi Garg\\Desktop\\Code\\data-science\\BooksPython/Portuguese/branco/Estrellas Prop┬░cias.txt\n",
      "C:\\Users\\Shelvi Garg\\Desktop\\Code\\data-science\\BooksPython/Portuguese/branco/Lagrimas Abena╠üoadas.txt\n"
     ]
    },
    {
     "name": "stdout",
     "output_type": "stream",
     "text": [
      "C:\\Users\\Shelvi Garg\\Desktop\\Code\\data-science\\BooksPython/Portuguese/branco/Livro de Consolac╠ºa╠âo.txt\n",
      "C:\\Users\\Shelvi Garg\\Desktop\\Code\\data-science\\BooksPython/Portuguese/branco/O Olho de Vidro.txt\n",
      "C:\\Users\\Shelvi Garg\\Desktop\\Code\\data-science\\BooksPython/Portuguese/branco/O que fazem mulheres.txt\n",
      "C:\\Users\\Shelvi Garg\\Desktop\\Code\\data-science\\BooksPython/Portuguese/branco/O Regicida.txt\n",
      "C:\\Users\\Shelvi Garg\\Desktop\\Code\\data-science\\BooksPython/Portuguese/branco/Scenas Contemporaneas.txt\n",
      "C:\\Users\\Shelvi Garg\\Desktop\\Code\\data-science\\BooksPython/Portuguese/dinis/A Morgadinha dos Cannaviaes.txt\n",
      "C:\\Users\\Shelvi Garg\\Desktop\\Code\\data-science\\BooksPython/Portuguese/dinis/Os fidalgos da Casa Mourisca.txt\n",
      "C:\\Users\\Shelvi Garg\\Desktop\\Code\\data-science\\BooksPython/Portuguese/dinis/Uma fam┬░lia ingleza.txt\n",
      "C:\\Users\\Shelvi Garg\\Desktop\\Code\\data-science\\BooksPython/Portuguese/Queir┬ós/A Cidade e as Serras.txt\n",
      "C:\\Users\\Shelvi Garg\\Desktop\\Code\\data-science\\BooksPython/Portuguese/Queir┬ós/A corresponda╠Çncia de Fradique Mendes.txt\n",
      "C:\\Users\\Shelvi Garg\\Desktop\\Code\\data-science\\BooksPython/Portuguese/Queir┬ós/A Illustre Casa de Ramires.txt\n",
      "C:\\Users\\Shelvi Garg\\Desktop\\Code\\data-science\\BooksPython/Portuguese/Queir┬ós/A Rel┬░quia.txt\n",
      "C:\\Users\\Shelvi Garg\\Desktop\\Code\\data-science\\BooksPython/Portuguese/Queir┬ós/Cartas de Inglaterra.txt\n",
      "C:\\Users\\Shelvi Garg\\Desktop\\Code\\data-science\\BooksPython/Portuguese/Queir┬ós/O crime do padre Amaro.txt\n",
      "C:\\Users\\Shelvi Garg\\Desktop\\Code\\data-science\\BooksPython/Portuguese/Queir┬ós/O Mandarim.txt\n",
      "C:\\Users\\Shelvi Garg\\Desktop\\Code\\data-science\\BooksPython/Portuguese/Queir┬ós/O Primo Bazilio.txt\n",
      "C:\\Users\\Shelvi Garg\\Desktop\\Code\\data-science\\BooksPython/Portuguese/Queir┬ós/Os Maias.txt\n",
      "C:\\Users\\Shelvi Garg\\Desktop\\Code\\data-science\\BooksPython/Portuguese/shakespeare/Hamlet.txt\n"
     ]
    }
   ],
   "source": [
    "for language in os.listdir(book_dir):\n",
    "    for author in os.listdir(book_dir + \"/\" + language):   \n",
    "\n",
    "# we need to add the new directory  that we're currently in which is the language. We can do this by concatenating strings.\n",
    "        for title in os.listdir(book_dir + \"/\" + language + \"/\" + author):\n",
    "        \n",
    "#our first for loop is looping over languages.The second for loop is looping over authors.And the third, the innermost for loop, is loopingover different titles, different books.\n",
    "            input_file = book_dir + \"/\" + language + \"/\" + author + \"/\" + title\n",
    "            print(input_file)\n",
    "            \n",
    "            text = read_book(input_file)\n",
    "            (num_unique,counts) = word_stats(count_words(text))"
   ]
  },
  {
   "cell_type": "markdown",
   "metadata": {},
   "source": [
    "This read all the books i have in the 4 sub-folders under my BooksPython Directory."
   ]
  },
  {
   "cell_type": "markdown",
   "metadata": {},
   "source": [
    "### Reading Multiple Files"
   ]
  },
  {
   "cell_type": "markdown",
   "metadata": {},
   "source": [
    "#### Using Pandas Data-frames for our code:"
   ]
  },
  {
   "cell_type": "markdown",
   "metadata": {},
   "source": [
    "We first want to generate a list of the directories that are contained within our \"Books\" directory \n",
    "Since these directories will correspond to different languages,gonna call the loop variable language. We will:"
   ]
  },
  {
   "cell_type": "markdown",
   "metadata": {},
   "source": [
    "- Learning how to navigate file directories and read in multiple files/books at once\n",
    "- Briefly using pandas, which provides additional data structure and data analysis functionalities for Python"
   ]
  },
  {
   "cell_type": "code",
   "execution_count": 43,
   "metadata": {},
   "outputs": [
    {
     "name": "stdout",
     "output_type": "stream",
     "text": [
      "['English', 'French', 'German', 'Portuguese']\n"
     ]
    }
   ],
   "source": [
    "import os \n",
    "book_dir = (r\"C:\\Users\\Shelvi Garg\\Desktop\\Code\\data-science\\BooksPython\") \n",
    "print(os.listdir(book_dir))"
   ]
  },
  {
   "cell_type": "code",
   "execution_count": 44,
   "metadata": {},
   "outputs": [],
   "source": [
    "import pandas as pd \n",
    "stats = pd.DataFrame( columns = (\"language\", \"author\",\"title\", \"length\",\"unique\"))   #table with these 5 coloumns \n",
    "title_num = 1  \n",
    "for language in os.listdir(book_dir): \n",
    "    for author in os.listdir(book_dir + \"/\" + language):   # we need to add the new directory that we're currently in which is the language. We can do this by concatenating strings. \n",
    "        for title in os.listdir(book_dir + \"/\" + language + \"/\" + author):   #our first for loop is looping over languages.The second for loop is looping over authors.And the third, the innermost for loop, is loopingover different titles, different books. \n",
    "            input_file = book_dir + \"/\" + language + \"/\" + author + \"/\" + title \n",
    "            text = read_book(input_file) \n",
    "            stats.loc[title_num] = language , author.capitalize() , title.replace(\".txt\",\"\") , sum(counts) , num_unique \n",
    "            title_num += 1 \n",
    "            (num_unique, counts) = word_stats(count_words(text)) \n"
   ]
  },
  {
   "cell_type": "markdown",
   "metadata": {},
   "source": [
    "Printing Stats:"
   ]
  },
  {
   "cell_type": "code",
   "execution_count": 34,
   "metadata": {},
   "outputs": [
    {
     "name": "stdout",
     "output_type": "stream",
     "text": [
      "       language       author                      title  length unique\n",
      "1       English  Shakespeare  A Midsummer Night's Dream   30567   9700\n",
      "2       English  Shakespeare                     Hamlet   16103   4345\n",
      "3       English  Shakespeare                    Macbeth   28551   6776\n",
      "4       English  Shakespeare                    Othello   16874   4780\n",
      "5       English  Shakespeare                Richard III   26590   5898\n",
      "..          ...          ...                        ...     ...    ...\n",
      "98   Portuguese     Queir┬ós     O crime do padre Amaro   44293  13898\n",
      "99   Portuguese     Queir┬ós                 O Mandarim  128630  29300\n",
      "100  Portuguese     Queir┬ós            O Primo Bazilio   21440   7836\n",
      "101  Portuguese     Queir┬ós                   Os Maias  107303  27644\n",
      "102  Portuguese  Shakespeare                     Hamlet  195771  40665\n",
      "\n",
      "[102 rows x 5 columns]\n"
     ]
    }
   ],
   "source": [
    "print(stats)         "
   ]
  },
  {
   "cell_type": "code",
   "execution_count": 35,
   "metadata": {},
   "outputs": [
    {
     "name": "stdout",
     "output_type": "stream",
     "text": [
      "<bound method NDFrame.head of        language       author                      title  length unique\n",
      "1       English  Shakespeare  A Midsummer Night's Dream   30567   9700\n",
      "2       English  Shakespeare                     Hamlet   16103   4345\n",
      "3       English  Shakespeare                    Macbeth   28551   6776\n",
      "4       English  Shakespeare                    Othello   16874   4780\n",
      "5       English  Shakespeare                Richard III   26590   5898\n",
      "..          ...          ...                        ...     ...    ...\n",
      "98   Portuguese     Queir┬ós     O crime do padre Amaro   44293  13898\n",
      "99   Portuguese     Queir┬ós                 O Mandarim  128630  29300\n",
      "100  Portuguese     Queir┬ós            O Primo Bazilio   21440   7836\n",
      "101  Portuguese     Queir┬ós                   Os Maias  107303  27644\n",
      "102  Portuguese  Shakespeare                     Hamlet  195771  40665\n",
      "\n",
      "[102 rows x 5 columns]>\n"
     ]
    }
   ],
   "source": [
    "print(stats.head) "
   ]
  },
  {
   "cell_type": "code",
   "execution_count": 36,
   "metadata": {},
   "outputs": [
    {
     "name": "stdout",
     "output_type": "stream",
     "text": [
      "<bound method NDFrame.tail of        language       author                      title  length unique\n",
      "1       English  Shakespeare  A Midsummer Night's Dream   30567   9700\n",
      "2       English  Shakespeare                     Hamlet   16103   4345\n",
      "3       English  Shakespeare                    Macbeth   28551   6776\n",
      "4       English  Shakespeare                    Othello   16874   4780\n",
      "5       English  Shakespeare                Richard III   26590   5898\n",
      "..          ...          ...                        ...     ...    ...\n",
      "98   Portuguese     Queir┬ós     O crime do padre Amaro   44293  13898\n",
      "99   Portuguese     Queir┬ós                 O Mandarim  128630  29300\n",
      "100  Portuguese     Queir┬ós            O Primo Bazilio   21440   7836\n",
      "101  Portuguese     Queir┬ós                   Os Maias  107303  27644\n",
      "102  Portuguese  Shakespeare                     Hamlet  195771  40665\n",
      "\n",
      "[102 rows x 5 columns]>\n"
     ]
    }
   ],
   "source": [
    "print(stats.tail)"
   ]
  },
  {
   "cell_type": "markdown",
   "metadata": {},
   "source": [
    "#### Plotting our statistics "
   ]
  },
  {
   "cell_type": "markdown",
   "metadata": {},
   "source": [
    "We can easily extract specific columns from our pandas table using the names that we've given to those columns."
   ]
  },
  {
   "cell_type": "code",
   "execution_count": 47,
   "metadata": {},
   "outputs": [
    {
     "data": {
      "image/png": "[encoded data removed]",
      "text/plain": [
       "<Figure size 432x288 with 1 Axes>"
      ]
     },
     "metadata": {
      "needs_background": "light"
     },
     "output_type": "display_data"
    },
    {
     "data": {
      "text/plain": [
       "<Figure size 432x288 with 0 Axes>"
      ]
     },
     "metadata": {},
     "output_type": "display_data"
    }
   ],
   "source": [
    "import matplotlib.pyplot as plt\n",
    "plt.plot(stats.length, stats.unique, \"bo\")\n",
    "plt.show()\n",
    "plt.savefig(\"gutenberg1.pdf\")"
   ]
  },
  {
   "cell_type": "markdown",
   "metadata": {},
   "source": [
    "#### Using matplotlib's loglog:"
   ]
  },
  {
   "cell_type": "code",
   "execution_count": 48,
   "metadata": {},
   "outputs": [
    {
     "data": {
      "image/png": "[encoded data removed]",
      "text/plain": [
       "<Figure size 432x288 with 1 Axes>"
      ]
     },
     "metadata": {
      "needs_background": "light"
     },
     "output_type": "display_data"
    },
    {
     "data": {
      "text/plain": [
       "<Figure size 432x288 with 0 Axes>"
      ]
     },
     "metadata": {},
     "output_type": "display_data"
    }
   ],
   "source": [
    "plt.loglog(stats.length, stats.unique, \"bo\")\n",
    "plt.show()\n",
    "plt.savefig(\"gutenberg2.pdf\")"
   ]
  },
  {
   "cell_type": "markdown",
   "metadata": {},
   "source": [
    "### Plot As Per Book Language"
   ]
  },
  {
   "cell_type": "markdown",
   "metadata": {},
   "source": [
    "#### Let's construct a plot using different colors for different languages."
   ]
  },
  {
   "cell_type": "code",
   "execution_count": 46,
   "metadata": {},
   "outputs": [
    {
     "data": {
      "image/png": "[encoded data removed]",
      "text/plain": [
       "<Figure size 720x720 with 1 Axes>"
      ]
     },
     "metadata": {
      "needs_background": "light"
     },
     "output_type": "display_data"
    }
   ],
   "source": [
    "\n",
    "plt.figure(figsize = (10,10))\n",
    "subset = stats[stats.language == \"English\"]\n",
    "plt.loglog(subset.length,subset.unique,\"o\",label = \"English\",color = \"crimson\")\n",
    "subset = stats[stats.language == \"French\"]\n",
    "plt.loglog(subset.length,subset.unique,\"o\",label = \"French\",color = \"orange\")\n",
    "subset = stats[stats.language == \"German\"]\n",
    "plt.loglog(subset.length,subset.unique,\"o\",label = \"German\",color = \"forestgreen\")\n",
    "subset = stats[stats.language == \"Portuguese\"]\n",
    "plt.loglog(subset.length,subset.unique,\"o\",label = \"Portuguese\",color = \"blueviolet\")\n",
    "plt.legend()\n",
    "plt.xlabel(\"Book Length\")\n",
    "plt.ylabel(\"Number of unique words\")\n",
    "plt.savefig(\"language_plot.pdf\")\n",
    "plt.show()"
   ]
  },
  {
   "cell_type": "code",
   "execution_count": null,
   "metadata": {},
   "outputs": [],
   "source": []
  }
 ],
 "metadata": {
  "kernelspec": {
   "display_name": "Python 3",
   "language": "python",
   "name": "python3"
  },
  "language_info": {
   "codemirror_mode": {
    "name": "ipython",
    "version": 3
   },
   "file_extension": ".py",
   "mimetype": "text/x-python",
   "name": "python",
   "nbconvert_exporter": "python",
   "pygments_lexer": "ipython3",
   "version": "3.9.1"
  }
 },
 "nbformat": 4,
 "nbformat_minor": 4
}
